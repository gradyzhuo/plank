{
 "cells": [
  {
   "cell_type": "code",
   "execution_count": 1,
   "id": "ead4646c-1387-4265-8dc6-8faf35ae6c59",
   "metadata": {},
   "outputs": [],
   "source": [
    "from polymath.config import Configuration\n",
    "from pathlib import Path\n",
    "config_path = Path(\"/Users/gradyzhuo/Dropbox/workspace/DA/IRIAN/polymath_core/configuration/configuration.toml\")"
   ]
  },
  {
   "cell_type": "code",
   "execution_count": 2,
   "id": "d99e3c19-17b6-4074-90fb-e0b2139b296a",
   "metadata": {},
   "outputs": [
    {
     "name": "stdout",
     "output_type": "stream",
     "text": [
      "program_config_dict: {'app': {'app.name': 'Undefined', 'app.version': '1.0.0', 'app.debug': True}, 'logger': {'logger.level': 'DEBUG', 'logger.world': 'kkk'}, 'path': {'path.workspace': '${HOME}/polymath/'}, 'extra': {}}\n",
      "config_dict: {'app.name': 'Undefined', 'app.version': '1.0.0', 'app.debug': True}\n",
      "config_dict: {'logger.level': 'DEBUG', 'logger.world': 'kkk'}\n",
      "config_dict: {'path.workspace': '${HOME}/polymath/'}\n",
      "config_dict: {}\n",
      "program_config_dict: {'app': {'app.name': 'Undefined', 'app.version': '1.0.0', 'app.debug': False}, 'logger': {'logger.level': 'INFO'}, 'path': {'path.workspace': '${HOME}/polymath/'}, 'extra': {}}\n",
      "config_dict: {'app.name': 'Undefined', 'app.version': '1.0.0', 'app.debug': False}\n",
      "config_dict: {'logger.level': 'INFO'}\n",
      "config_dict: {'path.workspace': '${HOME}/polymath/'}\n",
      "config_dict: {}\n",
      "program_config_dict: {'app': {'app.name': 'Undefined', 'app.version': '1.0.0', 'app.debug': False}, 'logger': {'logger.level': 'INFO'}, 'path': {'path.workspace': '${HOME}/polymath/'}, 'extra': {}}\n",
      "config_dict: {'app.name': 'Undefined', 'app.version': '1.0.0', 'app.debug': False}\n",
      "config_dict: {'logger.level': 'INFO'}\n",
      "config_dict: {'path.workspace': '${HOME}/polymath/'}\n",
      "config_dict: {}\n"
     ]
    }
   ],
   "source": [
    "Configuration.preload(config_path)"
   ]
  },
  {
   "cell_type": "code",
   "execution_count": 3,
   "id": "e54e7124-a73b-42ee-b36b-48a5afe7691a",
   "metadata": {},
   "outputs": [],
   "source": [
    "debug = Configuration.from_program(\"debug\")"
   ]
  },
  {
   "cell_type": "code",
   "execution_count": 6,
   "id": "92c538c1-ac1e-44ae-8b74-0ad33321d25c",
   "metadata": {},
   "outputs": [
    {
     "data": {
      "text/plain": [
       "'kkk'"
      ]
     },
     "execution_count": 6,
     "metadata": {},
     "output_type": "execute_result"
    }
   ],
   "source": [
    "debug.logger.get(\"world\")"
   ]
  },
  {
   "cell_type": "code",
   "execution_count": 5,
   "id": "d574bf56-068f-49e4-afa4-5a7a7929e251",
   "metadata": {},
   "outputs": [
    {
     "data": {
      "text/plain": [
       "{'app.name': 'Undefined', 'app.version': '1.0.0', 'app.debug': True}"
      ]
     },
     "execution_count": 5,
     "metadata": {},
     "output_type": "execute_result"
    }
   ],
   "source": [
    "debug.app.config_dict"
   ]
  },
  {
   "cell_type": "code",
   "execution_count": null,
   "id": "ca922007-9f73-4d88-9ee3-184e67d870a3",
   "metadata": {},
   "outputs": [],
   "source": []
  }
 ],
 "metadata": {
  "kernelspec": {
   "display_name": "Python 3 (ipykernel)",
   "language": "python",
   "name": "python3"
  },
  "language_info": {
   "codemirror_mode": {
    "name": "ipython",
    "version": 3
   },
   "file_extension": ".py",
   "mimetype": "text/x-python",
   "name": "python",
   "nbconvert_exporter": "python",
   "pygments_lexer": "ipython3",
   "version": "3.9.10"
  }
 },
 "nbformat": 4,
 "nbformat_minor": 5
}
