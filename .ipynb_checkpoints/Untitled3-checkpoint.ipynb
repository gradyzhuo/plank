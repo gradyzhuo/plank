{
 "cells": [
  {
   "cell_type": "code",
   "execution_count": 1,
   "id": "1cda7bd2-984c-4a58-90c6-30d3eb12a453",
   "metadata": {},
   "outputs": [],
   "source": [
    "import re"
   ]
  },
  {
   "cell_type": "code",
   "execution_count": 2,
   "id": "971c2a78-f2e2-4049-8f14-feab0e5f7393",
   "metadata": {},
   "outputs": [],
   "source": [
    "from polymath.config.context import Context"
   ]
  },
  {
   "cell_type": "code",
   "execution_count": 5,
   "id": "2b22ba71-f691-4be3-ad98-f4b658b3a3c4",
   "metadata": {},
   "outputs": [],
   "source": [
    "context = Context.standard()"
   ]
  },
  {
   "cell_type": "code",
   "execution_count": 8,
   "id": "4a28ce60-2372-49a4-8dda-e85a1e44e094",
   "metadata": {},
   "outputs": [],
   "source": [
    "rx = context._Context__rx"
   ]
  },
  {
   "cell_type": "code",
   "execution_count": 14,
   "id": "730de3e3-0a8c-4092-b04f-3e17ce300fd4",
   "metadata": {},
   "outputs": [],
   "source": [
    "x = re.search(rx, \"${AAA}/${BBB}\")"
   ]
  },
  {
   "cell_type": "code",
   "execution_count": 17,
   "id": "6ab091cb-87f8-42b1-a37f-cb79a1f9a771",
   "metadata": {},
   "outputs": [
    {
     "data": {
      "text/plain": [
       "'AAA'"
      ]
     },
     "execution_count": 17,
     "metadata": {},
     "output_type": "execute_result"
    }
   ],
   "source": [
    "x[\"VAR\"]"
   ]
  },
  {
   "cell_type": "code",
   "execution_count": null,
   "id": "d8459aa4-0b9f-4429-a6ed-e694309ceea5",
   "metadata": {},
   "outputs": [],
   "source": [
    "class Descriptor:\n",
    "    def __init__(self, env_key: str, default: Any):\n",
    "        self.__env_key = env_key\n",
    "        self.__default = default\n",
    "\n",
    "    def __get__(self, instance, owner) -> Any:\n",
    "        print(\"hello\")\n",
    "        return \"Y\"\n",
    "        \n",
    "    def __set__(self, instance, value: Any) -> NoReturn:\n",
    "        print(\"setter\")"
   ]
  }
 ],
 "metadata": {
  "kernelspec": {
   "display_name": "Python 3 (ipykernel)",
   "language": "python",
   "name": "python3"
  },
  "language_info": {
   "codemirror_mode": {
    "name": "ipython",
    "version": 3
   },
   "file_extension": ".py",
   "mimetype": "text/x-python",
   "name": "python",
   "nbconvert_exporter": "python",
   "pygments_lexer": "ipython3",
   "version": "3.9.10"
  }
 },
 "nbformat": 4,
 "nbformat_minor": 5
}
