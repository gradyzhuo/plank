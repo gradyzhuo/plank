{
 "cells": [
  {
   "cell_type": "code",
   "execution_count": 1,
   "id": "1cda7bd2-984c-4a58-90c6-30d3eb12a453",
   "metadata": {},
   "outputs": [],
   "source": [
    "import re"
   ]
  },
  {
   "cell_type": "code",
   "execution_count": 2,
   "id": "971c2a78-f2e2-4049-8f14-feab0e5f7393",
   "metadata": {},
   "outputs": [],
   "source": [
    "from polymath.config.context import Context"
   ]
  },
  {
   "cell_type": "code",
   "execution_count": 5,
   "id": "2b22ba71-f691-4be3-ad98-f4b658b3a3c4",
   "metadata": {},
   "outputs": [],
   "source": [
    "context = Context.standard()"
   ]
  },
  {
   "cell_type": "code",
   "execution_count": 8,
   "id": "4a28ce60-2372-49a4-8dda-e85a1e44e094",
   "metadata": {},
   "outputs": [],
   "source": [
    "rx = context._Context__rx"
   ]
  },
  {
   "cell_type": "code",
   "execution_count": 14,
   "id": "730de3e3-0a8c-4092-b04f-3e17ce300fd4",
   "metadata": {},
   "outputs": [],
   "source": [
    "x = re.search(rx, \"${AAA}/${BBB}\")"
   ]
  },
  {
   "cell_type": "code",
   "execution_count": 17,
   "id": "6ab091cb-87f8-42b1-a37f-cb79a1f9a771",
   "metadata": {},
   "outputs": [
    {
     "data": {
      "text/plain": [
       "'AAA'"
      ]
     },
     "execution_count": 17,
     "metadata": {},
     "output_type": "execute_result"
    }
   ],
   "source": [
    "x[\"VAR\"]"
   ]
  },
  {
   "cell_type": "code",
   "execution_count": 20,
   "id": "d8459aa4-0b9f-4429-a6ed-e694309ceea5",
   "metadata": {},
   "outputs": [],
   "source": [
    "from typing import Any, NoReturn\n",
    "class Descriptor:\n",
    "    def __init__(self, env_key: str, default: Any):\n",
    "        self.__env_key = env_key\n",
    "        self.__default = default\n",
    "\n",
    "    def __get__(self, instance, owner) -> Any:\n",
    "        print(\"hello\")\n",
    "        return \"Y\"\n",
    "        \n",
    "    def __set__(self, instance, value: Any) -> NoReturn:\n",
    "        print(\"setter\")"
   ]
  },
  {
   "cell_type": "code",
   "execution_count": 22,
   "id": "e932b3fb-8a31-4bdf-af4c-f10daf4b1117",
   "metadata": {},
   "outputs": [],
   "source": [
    "class X:\n",
    "    x = Descriptor(\"XXX\", \"n\")"
   ]
  },
  {
   "cell_type": "code",
   "execution_count": 23,
   "id": "31320bcd-ad65-48d4-9308-f3b0b01ef811",
   "metadata": {},
   "outputs": [],
   "source": [
    "x = X()"
   ]
  },
  {
   "cell_type": "code",
   "execution_count": 24,
   "id": "af55d15a-b71e-4dfc-b4da-c1949eae90bb",
   "metadata": {},
   "outputs": [
    {
     "name": "stdout",
     "output_type": "stream",
     "text": [
      "hello\n"
     ]
    },
    {
     "data": {
      "text/plain": [
       "'Y'"
      ]
     },
     "execution_count": 24,
     "metadata": {},
     "output_type": "execute_result"
    }
   ],
   "source": [
    "x.x"
   ]
  },
  {
   "cell_type": "code",
   "execution_count": 25,
   "id": "61a459ad-2895-4923-8e4a-45d0367afb4d",
   "metadata": {},
   "outputs": [],
   "source": [
    "X.y = Descriptor(\"MMM\", \"2\")"
   ]
  },
  {
   "cell_type": "code",
   "execution_count": 26,
   "id": "fcd15e58-430f-4a8f-ae08-65d9b1dafecd",
   "metadata": {},
   "outputs": [
    {
     "name": "stdout",
     "output_type": "stream",
     "text": [
      "hello\n"
     ]
    },
    {
     "data": {
      "text/plain": [
       "'Y'"
      ]
     },
     "execution_count": 26,
     "metadata": {},
     "output_type": "execute_result"
    }
   ],
   "source": [
    "xx = X()\n",
    "xx.y"
   ]
  },
  {
   "cell_type": "code",
   "execution_count": 27,
   "id": "5d0a7999-ef40-45e9-94d3-4b4ba4c681c7",
   "metadata": {},
   "outputs": [],
   "source": [
    "setattr(X, \"l\", Descriptor(\"MMM\", \"2\"))"
   ]
  },
  {
   "cell_type": "code",
   "execution_count": 28,
   "id": "238a1e33-b6f5-48f6-9744-592e9000d349",
   "metadata": {},
   "outputs": [
    {
     "name": "stdout",
     "output_type": "stream",
     "text": [
      "hello\n"
     ]
    },
    {
     "data": {
      "text/plain": [
       "'Y'"
      ]
     },
     "execution_count": 28,
     "metadata": {},
     "output_type": "execute_result"
    }
   ],
   "source": [
    "xx.l"
   ]
  },
  {
   "cell_type": "code",
   "execution_count": 29,
   "id": "9bdfccf6-2594-423b-93c4-5484b785f40e",
   "metadata": {},
   "outputs": [
    {
     "name": "stdout",
     "output_type": "stream",
     "text": [
      "hello\n"
     ]
    },
    {
     "data": {
      "text/plain": [
       "'Y'"
      ]
     },
     "execution_count": 29,
     "metadata": {},
     "output_type": "execute_result"
    }
   ],
   "source": [
    "getattr(xx, \"l\")"
   ]
  },
  {
   "cell_type": "code",
   "execution_count": 30,
   "id": "7ecd7314-42d2-4113-bfe5-66ab16e76298",
   "metadata": {},
   "outputs": [
    {
     "data": {
      "text/plain": [
       "mappingproxy({'__module__': '__main__',\n",
       "              'x': <__main__.Descriptor at 0x105c4cc40>,\n",
       "              '__dict__': <attribute '__dict__' of 'X' objects>,\n",
       "              '__weakref__': <attribute '__weakref__' of 'X' objects>,\n",
       "              '__doc__': None,\n",
       "              'y': <__main__.Descriptor at 0x107208f40>,\n",
       "              'l': <__main__.Descriptor at 0x107465730>})"
      ]
     },
     "execution_count": 30,
     "metadata": {},
     "output_type": "execute_result"
    }
   ],
   "source": [
    "X.__dict__"
   ]
  },
  {
   "cell_type": "code",
   "execution_count": null,
   "id": "cf732693-4d6b-460b-b7c4-0e18e095841e",
   "metadata": {},
   "outputs": [],
   "source": []
  }
 ],
 "metadata": {
  "kernelspec": {
   "display_name": "Python 3 (ipykernel)",
   "language": "python",
   "name": "python3"
  },
  "language_info": {
   "codemirror_mode": {
    "name": "ipython",
    "version": 3
   },
   "file_extension": ".py",
   "mimetype": "text/x-python",
   "name": "python",
   "nbconvert_exporter": "python",
   "pygments_lexer": "ipython3",
   "version": "3.9.10"
  }
 },
 "nbformat": 4,
 "nbformat_minor": 5
}
