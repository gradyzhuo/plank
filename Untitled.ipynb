{
 "cells": [
  {
   "cell_type": "code",
   "execution_count": 1,
   "id": "06cb5e87-730b-45f4-bf94-7bdd1ea5cfa1",
   "metadata": {},
   "outputs": [],
   "source": [
    "from polymath.serving.service import Serving\n",
    "from polymath.serving.connector.inline import InlineConnector\n",
    "from typing import *"
   ]
  },
  {
   "cell_type": "code",
   "execution_count": 2,
   "id": "667ea4f3-9b0d-4cee-bad5-a29d3b6da6ba",
   "metadata": {},
   "outputs": [],
   "source": [
    "from polymath.serving.backend import Backend\n",
    "from polymath.serving.backend.serving import ServingBackend\n",
    "from polymath.serving.extension import Extension"
   ]
  },
  {
   "cell_type": "code",
   "execution_count": 3,
   "id": "0354d9b9-c8e2-4b82-8257-d98dbb0ca031",
   "metadata": {},
   "outputs": [],
   "source": [
    "class Test(Serving):\n",
    "    def perform(self, arguments: Dict[str, Any])->Any:\n",
    "        print(arguments)\n",
    "        return \"hello, world\"\n"
   ]
  },
  {
   "cell_type": "code",
   "execution_count": 4,
   "id": "074b93b4-984e-472a-87f5-04f21966592d",
   "metadata": {},
   "outputs": [],
   "source": [
    "class Recommendability(Extension):\n",
    "\n",
    "    def prefer_tags_num(self)->Optional[int]:\n",
    "        return None\n",
    "\n",
    "    def recommend_by_tags(self, tags:List, resembled_level:str)->Generator[str, None, None]:\n",
    "        raise NotImplementedError(\"recommend_by_tags should implement in Recommendability.\")\n"
   ]
  },
  {
   "cell_type": "code",
   "execution_count": 5,
   "id": "db5c2cc1-a121-4a8b-a84e-7933fd06bb80",
   "metadata": {},
   "outputs": [],
   "source": [
    "class Test2(Recommendability):\n",
    "    def recommend_by_tags(self, tags:List, resembled_level:str)->Generator[str, None, None]:\n",
    "        print(\"tags:\", tags, \"resembled_level:\", resembled_level)\n",
    "        return [\"a\", \"b\", \"c\"] + tags\n"
   ]
  },
  {
   "cell_type": "code",
   "execution_count": 6,
   "id": "6eade985-8299-4855-b573-cba72a510705",
   "metadata": {},
   "outputs": [],
   "source": [
    "t2 = Test2()"
   ]
  },
  {
   "cell_type": "code",
   "execution_count": 7,
   "id": "dde521d6-57cb-4aec-a900-304d7179671e",
   "metadata": {},
   "outputs": [
    {
     "name": "stdout",
     "output_type": "stream",
     "text": [
      "tags: ['hello', 'world'] resembled_level: 2\n"
     ]
    },
    {
     "data": {
      "text/plain": [
       "['a', 'b', 'c', 'hello', 'world']"
      ]
     },
     "execution_count": 7,
     "metadata": {},
     "output_type": "execute_result"
    }
   ],
   "source": [
    "t2.perform(arguments={\n",
    "    \"method\": \"recommend_by_tags\",\n",
    "    \"tags\": [\"hello\", \"world\"],\n",
    "    \"resembled_level\": \"2\"\n",
    "})"
   ]
  },
  {
   "cell_type": "code",
   "execution_count": 9,
   "id": "1466765f-4bad-4229-9347-838bf436841b",
   "metadata": {},
   "outputs": [],
   "source": [
    "from polymath.serving.server.inline import InlineServer"
   ]
  },
  {
   "cell_type": "code",
   "execution_count": 10,
   "id": "02d6fcdd-52b7-4c68-af1b-88a20b0f2841",
   "metadata": {},
   "outputs": [],
   "source": [
    "server = InlineServer()"
   ]
  },
  {
   "cell_type": "code",
   "execution_count": 11,
   "id": "d4e56a7e-749e-41f5-b40e-dfc301616fe5",
   "metadata": {},
   "outputs": [],
   "source": [
    "service = Test()\n",
    "# backend = ServiceBackend(service=service)\n",
    "extension = Test2()\n",
    "backend = ServingBackend(extension)"
   ]
  },
  {
   "cell_type": "code",
   "execution_count": 12,
   "id": "e94b8815-178e-4262-a21c-7602e805f780",
   "metadata": {},
   "outputs": [],
   "source": [
    "server.add_backend(key=\"test2\", backend=backend)"
   ]
  },
  {
   "cell_type": "code",
   "execution_count": 13,
   "id": "cc45e69f-9c1f-46a8-af21-7c00c56e5172",
   "metadata": {},
   "outputs": [],
   "source": [
    "server.listen()"
   ]
  },
  {
   "cell_type": "code",
   "execution_count": null,
   "id": "dc01ceaa-e87b-47dc-821f-a71ec2dbb8e8",
   "metadata": {},
   "outputs": [],
   "source": []
  },
  {
   "cell_type": "code",
   "execution_count": 14,
   "id": "d701fa74-b69f-426e-9cce-a7de18142d6b",
   "metadata": {},
   "outputs": [],
   "source": [
    "connector = InlineConnector(service_name=\"test2\")\n",
    "client = Test2.proxy(connector=connector)"
   ]
  },
  {
   "cell_type": "code",
   "execution_count": 15,
   "id": "02966acb-72b0-4a0c-859b-484ffc3a1c2f",
   "metadata": {},
   "outputs": [
    {
     "name": "stdout",
     "output_type": "stream",
     "text": [
      "tags: ['hello', 'world'] resembled_level: 2\n"
     ]
    },
    {
     "data": {
      "text/plain": [
       "['a', 'b', 'c', 'hello', 'world']"
      ]
     },
     "execution_count": 15,
     "metadata": {},
     "output_type": "execute_result"
    }
   ],
   "source": [
    "client.recommend_by_tags(tags=[\"hello\", \"world\"], resembled_level=2)"
   ]
  },
  {
   "cell_type": "code",
   "execution_count": 14,
   "id": "f52eb7e8-ee89-4156-ac71-ce2e9fe90717",
   "metadata": {},
   "outputs": [
    {
     "ename": "TypeError",
     "evalue": "'str' object is not callable",
     "output_type": "error",
     "traceback": [
      "\u001b[0;31m---------------------------------------------------------------------------\u001b[0m",
      "\u001b[0;31mTypeError\u001b[0m                                 Traceback (most recent call last)",
      "Input \u001b[0;32mIn [14]\u001b[0m, in \u001b[0;36m<cell line: 1>\u001b[0;34m()\u001b[0m\n\u001b[0;32m----> 1\u001b[0m \u001b[43mclient\u001b[49m\u001b[38;5;241;43m.\u001b[39;49m\u001b[43mperform\u001b[49m\u001b[43m(\u001b[49m\u001b[43marguments\u001b[49m\u001b[38;5;241;43m=\u001b[39;49m\u001b[43m{\u001b[49m\n\u001b[1;32m      2\u001b[0m \u001b[43m    \u001b[49m\u001b[38;5;124;43m\"\u001b[39;49m\u001b[38;5;124;43mmethod\u001b[39;49m\u001b[38;5;124;43m\"\u001b[39;49m\u001b[43m:\u001b[49m\u001b[43m \u001b[49m\u001b[38;5;124;43m\"\u001b[39;49m\u001b[38;5;124;43mrecommend_by_tags\u001b[39;49m\u001b[38;5;124;43m\"\u001b[39;49m\u001b[43m,\u001b[49m\n\u001b[1;32m      3\u001b[0m \u001b[43m    \u001b[49m\u001b[38;5;124;43m\"\u001b[39;49m\u001b[38;5;124;43mtags\u001b[39;49m\u001b[38;5;124;43m\"\u001b[39;49m\u001b[43m:\u001b[49m\u001b[43m \u001b[49m\u001b[43m[\u001b[49m\u001b[38;5;124;43m\"\u001b[39;49m\u001b[38;5;124;43mhello\u001b[39;49m\u001b[38;5;124;43m\"\u001b[39;49m\u001b[43m,\u001b[49m\u001b[43m \u001b[49m\u001b[38;5;124;43m\"\u001b[39;49m\u001b[38;5;124;43mworld\u001b[39;49m\u001b[38;5;124;43m\"\u001b[39;49m\u001b[43m]\u001b[49m\u001b[43m,\u001b[49m\n\u001b[1;32m      4\u001b[0m \u001b[43m    \u001b[49m\u001b[38;5;124;43m\"\u001b[39;49m\u001b[38;5;124;43mresembled_level\u001b[39;49m\u001b[38;5;124;43m\"\u001b[39;49m\u001b[43m:\u001b[49m\u001b[43m \u001b[49m\u001b[38;5;124;43m\"\u001b[39;49m\u001b[38;5;124;43m2\u001b[39;49m\u001b[38;5;124;43m\"\u001b[39;49m\n\u001b[1;32m      5\u001b[0m \u001b[43m}\u001b[49m\u001b[43m)\u001b[49m\n",
      "\u001b[0;31mTypeError\u001b[0m: 'str' object is not callable"
     ]
    }
   ],
   "source": [
    "client.perform(arguments={\n",
    "    \"method\": \"recommend_by_tags\",\n",
    "    \"tags\": [\"hello\", \"world\"],\n",
    "    \"resembled_level\": \"2\"\n",
    "})"
   ]
  },
  {
   "cell_type": "code",
   "execution_count": null,
   "id": "cad0cce1-a29f-4937-99bf-762be7c45f78",
   "metadata": {},
   "outputs": [],
   "source": []
  },
  {
   "cell_type": "code",
   "execution_count": 16,
   "id": "3a273722-3470-4e19-9138-109d4a04bc4a",
   "metadata": {},
   "outputs": [
    {
     "data": {
      "text/plain": [
       "<super: __main__.Test2, None>"
      ]
     },
     "execution_count": 16,
     "metadata": {},
     "output_type": "execute_result"
    }
   ],
   "source": [
    "super(Test2, )"
   ]
  },
  {
   "cell_type": "code",
   "execution_count": 21,
   "id": "774332e0-1151-4e8b-90b1-a6ce5ff50a95",
   "metadata": {},
   "outputs": [],
   "source": [
    "import inspect\n",
    "x = inspect.getmro(Test2)[1]"
   ]
  },
  {
   "cell_type": "code",
   "execution_count": 24,
   "id": "5af3e6c5-e06c-4f14-96f8-9b83fae1f004",
   "metadata": {},
   "outputs": [
    {
     "data": {
      "text/plain": [
       "type"
      ]
     },
     "execution_count": 24,
     "metadata": {},
     "output_type": "execute_result"
    }
   ],
   "source": [
    "type(x)"
   ]
  },
  {
   "cell_type": "code",
   "execution_count": 26,
   "id": "7d886bb3-8b19-4f6a-9599-7d451c03f97e",
   "metadata": {},
   "outputs": [
    {
     "data": {
      "text/plain": [
       "mappingproxy({'__module__': '__main__',\n",
       "              'prefer_tags_num': <function __main__.Recommendability.prefer_tags_num(self) -> Optional[int]>,\n",
       "              'recommend_by_tags': <function __main__.Recommendability.recommend_by_tags(self, tags: List, resembled_level: str) -> Generator[str, NoneType, NoneType]>,\n",
       "              '__doc__': None})"
      ]
     },
     "execution_count": 26,
     "metadata": {},
     "output_type": "execute_result"
    }
   ],
   "source": [
    "x.__dict__"
   ]
  },
  {
   "cell_type": "code",
   "execution_count": null,
   "id": "12ba86ce-f9d1-442e-afea-e4709f83b9c0",
   "metadata": {},
   "outputs": [],
   "source": []
  }
 ],
 "metadata": {
  "kernelspec": {
   "display_name": "Python 3 (ipykernel)",
   "language": "python",
   "name": "python3"
  },
  "language_info": {
   "codemirror_mode": {
    "name": "ipython",
    "version": 3
   },
   "file_extension": ".py",
   "mimetype": "text/x-python",
   "name": "python",
   "nbconvert_exporter": "python",
   "pygments_lexer": "ipython3",
   "version": "3.9.10"
  }
 },
 "nbformat": 4,
 "nbformat_minor": 5
}
