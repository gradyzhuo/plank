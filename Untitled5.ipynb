{
 "cells": [
  {
   "cell_type": "code",
   "execution_count": 4,
   "id": "e3e578d0-70e6-48a0-b5eb-1c4d19556f21",
   "metadata": {},
   "outputs": [],
   "source": [
    "from dataclasses import dataclass"
   ]
  },
  {
   "cell_type": "code",
   "execution_count": 11,
   "id": "45405409-7088-4632-923b-49272324905e",
   "metadata": {},
   "outputs": [],
   "source": [
    "@dataclass\n",
    "class Test:\n",
    "    a: str\n",
    "    b: int"
   ]
  },
  {
   "cell_type": "code",
   "execution_count": 12,
   "id": "cfec212b-b000-42a8-94e9-27713c4f6c42",
   "metadata": {},
   "outputs": [
    {
     "data": {
      "text/plain": [
       "Test(a=2, b='b')"
      ]
     },
     "execution_count": 12,
     "metadata": {},
     "output_type": "execute_result"
    }
   ],
   "source": [
    "Test(2, \"b\")"
   ]
  },
  {
   "cell_type": "code",
   "execution_count": 18,
   "id": "b4133c25-c702-4b20-9161-016c6d5dd4db",
   "metadata": {},
   "outputs": [],
   "source": [
    "from pydantic import BaseModel\n",
    "from typing import Union"
   ]
  },
  {
   "cell_type": "code",
   "execution_count": 24,
   "id": "7c6fef70-27a9-4f5f-9d45-2839a0757728",
   "metadata": {},
   "outputs": [],
   "source": [
    "class A(BaseModel):\n",
    "    a: Union[str, int]\n",
    "    b: int"
   ]
  },
  {
   "cell_type": "code",
   "execution_count": 26,
   "id": "0ed30ffe-4422-4bf6-98cb-32a664a358dc",
   "metadata": {},
   "outputs": [
    {
     "data": {
      "text/plain": [
       "A(a='1', b=30)"
      ]
     },
     "execution_count": 26,
     "metadata": {},
     "output_type": "execute_result"
    }
   ],
   "source": [
    "A(a=\"1\", b=30)"
   ]
  },
  {
   "cell_type": "code",
   "execution_count": null,
   "id": "f069aae8-00bc-4694-b9fa-150754809253",
   "metadata": {},
   "outputs": [],
   "source": []
  },
  {
   "cell_type": "code",
   "execution_count": null,
   "id": "79eb0a87-988f-4fe2-b22b-5bb93e2235ac",
   "metadata": {},
   "outputs": [],
   "source": []
  }
 ],
 "metadata": {
  "kernelspec": {
   "display_name": "Python 3 (ipykernel)",
   "language": "python",
   "name": "python3"
  },
  "language_info": {
   "codemirror_mode": {
    "name": "ipython",
    "version": 3
   },
   "file_extension": ".py",
   "mimetype": "text/x-python",
   "name": "python",
   "nbconvert_exporter": "python",
   "pygments_lexer": "ipython3",
   "version": "3.9.10"
  }
 },
 "nbformat": 4,
 "nbformat_minor": 5
}
