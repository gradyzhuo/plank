{
 "cells": [
  {
   "cell_type": "code",
   "execution_count": 1,
   "id": "ead4646c-1387-4265-8dc6-8faf35ae6c59",
   "metadata": {},
   "outputs": [],
   "source": [
    "from polymath.config import Configuration\n",
    "from pathlib import Path\n",
    "config_path = Path(\"/Users/gradyzhuo/Dropbox/workspace/DA/IRIAN/polymath_core/configuration/configuration.toml\")"
   ]
  },
  {
   "cell_type": "code",
   "execution_count": 2,
   "id": "d99e3c19-17b6-4074-90fb-e0b2139b296a",
   "metadata": {},
   "outputs": [
    {
     "name": "stdout",
     "output_type": "stream",
     "text": [
      "self.__categories: {'Recommendability': ['builtin']}\n",
      "self.__extensions: {'Recommendability.builtin': {'connector.url': ''}}\n",
      "self.__categories: {'Recommendability': ['builtin']}\n",
      "self.__extensions: {'Recommendability.builtin': {'connector.url': ''}}\n",
      "self.__categories: {'Recommendability': ['builtin']}\n",
      "self.__extensions: {'Recommendability.builtin': {'connector.url': ''}}\n"
     ]
    }
   ],
   "source": [
    "Configuration.preload(config_path)"
   ]
  },
  {
   "cell_type": "code",
   "execution_count": 3,
   "id": "e54e7124-a73b-42ee-b36b-48a5afe7691a",
   "metadata": {},
   "outputs": [],
   "source": [
    "debug = Configuration.from_program(\"debug\")"
   ]
  },
  {
   "cell_type": "code",
   "execution_count": null,
   "id": "92c538c1-ac1e-44ae-8b74-0ad33321d25c",
   "metadata": {},
   "outputs": [],
   "source": [
    "debug.logger.get(\"world\")"
   ]
  },
  {
   "cell_type": "code",
   "execution_count": null,
   "id": "d574bf56-068f-49e4-afa4-5a7a7929e251",
   "metadata": {},
   "outputs": [],
   "source": [
    "debug.app.config_dict"
   ]
  },
  {
   "cell_type": "code",
   "execution_count": null,
   "id": "ca922007-9f73-4d88-9ee3-184e67d870a3",
   "metadata": {},
   "outputs": [],
   "source": [
    "release = Configuration.from_program(\"release\")"
   ]
  },
  {
   "cell_type": "code",
   "execution_count": null,
   "id": "3e836630-c568-41e8-aa05-4d0f1c9d5705",
   "metadata": {},
   "outputs": [],
   "source": [
    "release.app.name"
   ]
  },
  {
   "cell_type": "code",
   "execution_count": null,
   "id": "f36fca02-56cb-47c4-ba56-32463c5e06d0",
   "metadata": {},
   "outputs": [],
   "source": [
    "debug.plugin.connector_dict(\"test\")"
   ]
  },
  {
   "cell_type": "code",
   "execution_count": 5,
   "id": "561745ca-7adb-4926-8bd5-9a2c02f10d28",
   "metadata": {},
   "outputs": [
    {
     "data": {
      "text/plain": [
       "{'connector': {'url': ''}}"
      ]
     },
     "execution_count": 5,
     "metadata": {},
     "output_type": "execute_result"
    }
   ],
   "source": [
    "debug.extension.connector_dict(name=\"builtin\", category=\"Recommendability\")"
   ]
  },
  {
   "cell_type": "code",
   "execution_count": null,
   "id": "cac7a115-f3e1-4bda-a3bb-3e60a06a4c36",
   "metadata": {},
   "outputs": [],
   "source": []
  }
 ],
 "metadata": {
  "kernelspec": {
   "display_name": "Python 3 (ipykernel)",
   "language": "python",
   "name": "python3"
  },
  "language_info": {
   "codemirror_mode": {
    "name": "ipython",
    "version": 3
   },
   "file_extension": ".py",
   "mimetype": "text/x-python",
   "name": "python",
   "nbconvert_exporter": "python",
   "pygments_lexer": "ipython3",
   "version": "3.9.10"
  }
 },
 "nbformat": 4,
 "nbformat_minor": 5
}
