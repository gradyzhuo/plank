{
 "cells": [
  {
   "cell_type": "code",
   "execution_count": 15,
   "id": "e02c53bb-2ca1-4d6a-bd77-2921cf385053",
   "metadata": {},
   "outputs": [],
   "source": [
    "class Extension:\n",
    "    def a(self, x:str):\n",
    "        pass\n",
    "    \n",
    "extension = Extension()"
   ]
  },
  {
   "cell_type": "code",
   "execution_count": 16,
   "id": "096d7519-c3df-4e1f-9ac3-a7211b0ea68f",
   "metadata": {},
   "outputs": [],
   "source": [
    "import inspect"
   ]
  },
  {
   "cell_type": "code",
   "execution_count": 17,
   "id": "82372627-1455-4f4c-8e53-358b66bf8c9d",
   "metadata": {},
   "outputs": [],
   "source": [
    "sig = inspect.signature(extension.a)"
   ]
  },
  {
   "cell_type": "code",
   "execution_count": 18,
   "id": "c570e6a5-5e7f-4d44-9b0f-13b27859edfb",
   "metadata": {},
   "outputs": [
    {
     "data": {
      "text/plain": [
       "['__class__',\n",
       " '__delattr__',\n",
       " '__dir__',\n",
       " '__doc__',\n",
       " '__eq__',\n",
       " '__format__',\n",
       " '__ge__',\n",
       " '__getattribute__',\n",
       " '__gt__',\n",
       " '__hash__',\n",
       " '__init__',\n",
       " '__init_subclass__',\n",
       " '__le__',\n",
       " '__lt__',\n",
       " '__module__',\n",
       " '__ne__',\n",
       " '__new__',\n",
       " '__reduce__',\n",
       " '__reduce_ex__',\n",
       " '__repr__',\n",
       " '__setattr__',\n",
       " '__setstate__',\n",
       " '__sizeof__',\n",
       " '__slots__',\n",
       " '__str__',\n",
       " '__subclasshook__',\n",
       " '_bind',\n",
       " '_bound_arguments_cls',\n",
       " '_hash_basis',\n",
       " '_parameter_cls',\n",
       " '_parameters',\n",
       " '_return_annotation',\n",
       " 'bind',\n",
       " 'bind_partial',\n",
       " 'empty',\n",
       " 'from_builtin',\n",
       " 'from_callable',\n",
       " 'from_function',\n",
       " 'parameters',\n",
       " 'replace',\n",
       " 'return_annotation']"
      ]
     },
     "execution_count": 18,
     "metadata": {},
     "output_type": "execute_result"
    }
   ],
   "source": [
    "dir(sig)"
   ]
  },
  {
   "cell_type": "code",
   "execution_count": 19,
   "id": "1c451f9a-68b1-456e-bf25-245cfe095c10",
   "metadata": {},
   "outputs": [
    {
     "data": {
      "text/plain": [
       "<Signature (x: str)>"
      ]
     },
     "execution_count": 19,
     "metadata": {},
     "output_type": "execute_result"
    }
   ],
   "source": [
    "sig"
   ]
  },
  {
   "cell_type": "code",
   "execution_count": 21,
   "id": "24d5e960-be3d-4f0b-b974-e0ac31ff0327",
   "metadata": {},
   "outputs": [
    {
     "data": {
      "text/plain": [
       "'a'"
      ]
     },
     "execution_count": 21,
     "metadata": {},
     "output_type": "execute_result"
    }
   ],
   "source": [
    "extension.a.__name__"
   ]
  },
  {
   "cell_type": "code",
   "execution_count": 22,
   "id": "4b47c447-de38-425b-897d-75ef07dd8f7f",
   "metadata": {},
   "outputs": [
    {
     "data": {
      "text/plain": [
       "'a'"
      ]
     },
     "execution_count": 22,
     "metadata": {},
     "output_type": "execute_result"
    }
   ],
   "source": [
    "Extension.a.__name__"
   ]
  },
  {
   "cell_type": "code",
   "execution_count": 23,
   "id": "23fa5a6f-5855-4f31-bf47-5048f4787747",
   "metadata": {},
   "outputs": [],
   "source": [
    "from pydantic import BaseModel"
   ]
  },
  {
   "cell_type": "code",
   "execution_count": 26,
   "id": "99b42b96-7c27-40a8-8107-66d2b9b43da4",
   "metadata": {},
   "outputs": [],
   "source": [
    "x = BaseModel.construct((\"a\", str))"
   ]
  },
  {
   "cell_type": "code",
   "execution_count": 28,
   "id": "16ac234e-6506-43c7-ad71-dba935735b00",
   "metadata": {},
   "outputs": [
    {
     "ename": "NameError",
     "evalue": "name 'a' is not defined",
     "output_type": "error",
     "traceback": [
      "\u001b[0;31m---------------------------------------------------------------------------\u001b[0m",
      "\u001b[0;31mNameError\u001b[0m                                 Traceback (most recent call last)",
      "Input \u001b[0;32mIn [28]\u001b[0m, in \u001b[0;36m<cell line: 1>\u001b[0;34m()\u001b[0m\n\u001b[0;32m----> 1\u001b[0m x,\u001b[43ma\u001b[49m\n",
      "\u001b[0;31mNameError\u001b[0m: name 'a' is not defined"
     ]
    }
   ],
   "source": [
    "x,a"
   ]
  },
  {
   "cell_type": "code",
   "execution_count": 30,
   "id": "3509ec2a-1e97-40af-aaf9-1f9c6f1d55e3",
   "metadata": {},
   "outputs": [
    {
     "data": {
      "text/plain": [
       "pydantic.main.BaseModel"
      ]
     },
     "execution_count": 30,
     "metadata": {},
     "output_type": "execute_result"
    }
   ],
   "source": [
    "BaseModel"
   ]
  },
  {
   "cell_type": "code",
   "execution_count": 70,
   "id": "19beaee8-9690-404f-861f-ff90a235ad95",
   "metadata": {},
   "outputs": [],
   "source": [
    "class X(BaseModel):\n",
    "    a: str"
   ]
  },
  {
   "cell_type": "code",
   "execution_count": 71,
   "id": "ad6100f0-31d3-4b05-85fd-d8bb1771ba7f",
   "metadata": {},
   "outputs": [
    {
     "data": {
      "text/plain": [
       "{}"
      ]
     },
     "execution_count": 71,
     "metadata": {},
     "output_type": "execute_result"
    }
   ],
   "source": [
    "X.__fields__[\"a\"].class_validators"
   ]
  },
  {
   "cell_type": "code",
   "execution_count": 36,
   "id": "c319790f-ec41-4604-9770-728196ff5a0f",
   "metadata": {},
   "outputs": [
    {
     "ename": "TypeError",
     "evalue": "__init__() needs keyword-only argument class_validators",
     "output_type": "error",
     "traceback": [
      "\u001b[0;31m---------------------------------------------------------------------------\u001b[0m",
      "\u001b[0;31mTypeError\u001b[0m                                 Traceback (most recent call last)",
      "Input \u001b[0;32mIn [36]\u001b[0m, in \u001b[0;36m<cell line: 2>\u001b[0;34m()\u001b[0m\n\u001b[1;32m      1\u001b[0m \u001b[38;5;28;01mfrom\u001b[39;00m \u001b[38;5;21;01mpydantic\u001b[39;00m\u001b[38;5;21;01m.\u001b[39;00m\u001b[38;5;21;01mfields\u001b[39;00m \u001b[38;5;28;01mimport\u001b[39;00m ModelField\n\u001b[0;32m----> 2\u001b[0m X\u001b[38;5;241m.\u001b[39m__fields__[\u001b[38;5;124m\"\u001b[39m\u001b[38;5;124mb\u001b[39m\u001b[38;5;124m\"\u001b[39m] \u001b[38;5;241m=\u001b[39m \u001b[43mModelField\u001b[49m\u001b[43m(\u001b[49m\u001b[43mname\u001b[49m\u001b[38;5;241;43m=\u001b[39;49m\u001b[38;5;124;43m'\u001b[39;49m\u001b[38;5;124;43mb\u001b[39;49m\u001b[38;5;124;43m'\u001b[39;49m\u001b[43m,\u001b[49m\u001b[43m \u001b[49m\u001b[43mtype_\u001b[49m\u001b[38;5;241;43m=\u001b[39;49m\u001b[38;5;28;43mstr\u001b[39;49m\u001b[43m,\u001b[49m\u001b[43m \u001b[49m\u001b[43mrequired\u001b[49m\u001b[38;5;241;43m=\u001b[39;49m\u001b[38;5;28;43;01mTrue\u001b[39;49;00m\u001b[43m)\u001b[49m\n",
      "File \u001b[0;32m~/Library/Caches/pypoetry/virtualenvs/polymath-core-JyOHny0p-py3.9/lib/python3.9/site-packages/pydantic/fields.py:382\u001b[0m, in \u001b[0;36mpydantic.fields.ModelField.__init__\u001b[0;34m()\u001b[0m\n",
      "\u001b[0;31mTypeError\u001b[0m: __init__() needs keyword-only argument class_validators"
     ]
    }
   ],
   "source": [
    "from pydantic.fields import ModelField\n",
    "X.__fields__[\"b\"] = ModelField(name='b', type_=str, required=True)"
   ]
  },
  {
   "cell_type": "code",
   "execution_count": 45,
   "id": "7c9590dd-75fc-4ba5-a4f9-3ddb11b581f7",
   "metadata": {},
   "outputs": [
    {
     "data": {
      "text/plain": [
       "X(a='1', b='1')"
      ]
     },
     "execution_count": 45,
     "metadata": {},
     "output_type": "execute_result"
    }
   ],
   "source": [
    "X(a=\"1\")"
   ]
  },
  {
   "cell_type": "code",
   "execution_count": 60,
   "id": "a803ca69-79dc-44ce-8585-f6c2b089306b",
   "metadata": {},
   "outputs": [],
   "source": [
    "from pydantic import BaseModel, ValidationError, validator"
   ]
  },
  {
   "cell_type": "code",
   "execution_count": 72,
   "id": "d174e978-ed62-4402-8891-3b9bd6955484",
   "metadata": {},
   "outputs": [],
   "source": [
    "field = ModelField(name=\"x\", type_=str, class_validators={}, model_config=BaseConfig)"
   ]
  },
  {
   "cell_type": "code",
   "execution_count": 75,
   "id": "c030b911-d4e5-4b7b-b153-7ad2cbb57aa9",
   "metadata": {},
   "outputs": [
    {
     "ename": "RuntimeError",
     "evalue": "no validator found for <class 'pydantic.fields.ModelField'>, see `arbitrary_types_allowed` in Config",
     "output_type": "error",
     "traceback": [
      "\u001b[0;31m---------------------------------------------------------------------------\u001b[0m",
      "\u001b[0;31mRuntimeError\u001b[0m                              Traceback (most recent call last)",
      "Input \u001b[0;32mIn [75]\u001b[0m, in \u001b[0;36m<cell line: 1>\u001b[0;34m()\u001b[0m\n\u001b[0;32m----> 1\u001b[0m Y \u001b[38;5;241m=\u001b[39m \u001b[38;5;28;43mtype\u001b[39;49m\u001b[43m(\u001b[49m\u001b[38;5;124;43m\"\u001b[39;49m\u001b[38;5;124;43mY\u001b[39;49m\u001b[38;5;124;43m\"\u001b[39;49m\u001b[43m,\u001b[49m\u001b[43m \u001b[49m\u001b[43m(\u001b[49m\u001b[43mBaseModel\u001b[49m\u001b[43m,\u001b[49m\u001b[43m)\u001b[49m\u001b[43m,\u001b[49m\u001b[43m \u001b[49m\u001b[43m{\u001b[49m\u001b[38;5;124;43m\"\u001b[39;49m\u001b[38;5;124;43mx\u001b[39;49m\u001b[38;5;124;43m\"\u001b[39;49m\u001b[43m:\u001b[49m\u001b[43m \u001b[49m\u001b[43mfield\u001b[49m\u001b[43m}\u001b[49m\u001b[43m)\u001b[49m\n",
      "File \u001b[0;32m~/Library/Caches/pypoetry/virtualenvs/polymath-core-JyOHny0p-py3.9/lib/python3.9/site-packages/pydantic/main.py:229\u001b[0m, in \u001b[0;36mpydantic.main.ModelMetaclass.__new__\u001b[0;34m()\u001b[0m\n",
      "File \u001b[0;32m~/Library/Caches/pypoetry/virtualenvs/polymath-core-JyOHny0p-py3.9/lib/python3.9/site-packages/pydantic/fields.py:491\u001b[0m, in \u001b[0;36mpydantic.fields.ModelField.infer\u001b[0;34m()\u001b[0m\n",
      "File \u001b[0;32m~/Library/Caches/pypoetry/virtualenvs/polymath-core-JyOHny0p-py3.9/lib/python3.9/site-packages/pydantic/fields.py:421\u001b[0m, in \u001b[0;36mpydantic.fields.ModelField.__init__\u001b[0;34m()\u001b[0m\n",
      "File \u001b[0;32m~/Library/Caches/pypoetry/virtualenvs/polymath-core-JyOHny0p-py3.9/lib/python3.9/site-packages/pydantic/fields.py:542\u001b[0m, in \u001b[0;36mpydantic.fields.ModelField.prepare\u001b[0;34m()\u001b[0m\n",
      "File \u001b[0;32m~/Library/Caches/pypoetry/virtualenvs/polymath-core-JyOHny0p-py3.9/lib/python3.9/site-packages/pydantic/fields.py:804\u001b[0m, in \u001b[0;36mpydantic.fields.ModelField.populate_validators\u001b[0;34m()\u001b[0m\n",
      "File \u001b[0;32m~/Library/Caches/pypoetry/virtualenvs/polymath-core-JyOHny0p-py3.9/lib/python3.9/site-packages/pydantic/validators.py:723\u001b[0m, in \u001b[0;36mfind_validators\u001b[0;34m()\u001b[0m\n",
      "\u001b[0;31mRuntimeError\u001b[0m: no validator found for <class 'pydantic.fields.ModelField'>, see `arbitrary_types_allowed` in Config"
     ]
    }
   ],
   "source": [
    "Y = type(\"Y\", (BaseModel,), {\"x\": field})"
   ]
  },
  {
   "cell_type": "code",
   "execution_count": 55,
   "id": "7d92ac49-cede-475e-93bf-f17547efc532",
   "metadata": {},
   "outputs": [],
   "source": [
    "from pydantic import BaseConfig"
   ]
  },
  {
   "cell_type": "code",
   "execution_count": null,
   "id": "055b5ca6-b942-49a6-8824-61d7dbc73404",
   "metadata": {},
   "outputs": [],
   "source": []
  },
  {
   "cell_type": "code",
   "execution_count": 76,
   "id": "78c2f97b-ad7c-4b5c-8f45-c62bef3552d4",
   "metadata": {},
   "outputs": [
    {
     "ename": "NameError",
     "evalue": "name 'Y' is not defined",
     "output_type": "error",
     "traceback": [
      "\u001b[0;31m---------------------------------------------------------------------------\u001b[0m",
      "\u001b[0;31mNameError\u001b[0m                                 Traceback (most recent call last)",
      "Input \u001b[0;32mIn [76]\u001b[0m, in \u001b[0;36m<cell line: 1>\u001b[0;34m()\u001b[0m\n\u001b[0;32m----> 1\u001b[0m \u001b[43mY\u001b[49m\n",
      "\u001b[0;31mNameError\u001b[0m: name 'Y' is not defined"
     ]
    }
   ],
   "source": [
    "Y"
   ]
  },
  {
   "cell_type": "code",
   "execution_count": null,
   "id": "b89a0ede-3626-4a6b-96e0-4b432f086e97",
   "metadata": {},
   "outputs": [],
   "source": []
  }
 ],
 "metadata": {
  "kernelspec": {
   "display_name": "Python 3 (ipykernel)",
   "language": "python",
   "name": "python3"
  },
  "language_info": {
   "codemirror_mode": {
    "name": "ipython",
    "version": 3
   },
   "file_extension": ".py",
   "mimetype": "text/x-python",
   "name": "python",
   "nbconvert_exporter": "python",
   "pygments_lexer": "ipython3",
   "version": "3.9.10"
  }
 },
 "nbformat": 4,
 "nbformat_minor": 5
}
