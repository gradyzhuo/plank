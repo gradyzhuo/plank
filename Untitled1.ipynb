{
 "cells": [
  {
   "cell_type": "code",
   "execution_count": 1,
   "id": "1d4f76a8-49dc-4a69-bac4-0e553fe5ff49",
   "metadata": {},
   "outputs": [],
   "source": [
    "from polymath.serving.extension import Extension\n",
    "from typing import Optional, List, Generator\n",
    "class Recommendability(Extension):\n",
    "\n",
    "    def prefer_tags_num(self)->Optional[int]:\n",
    "        return None\n",
    "\n",
    "    def recommend_by_tags(self, tags:List, resembled_level:str)->Generator[str, None, None]:\n",
    "        raise NotImplementedError(\"recommend_by_tags should implement in Recommendability.\")"
   ]
  },
  {
   "cell_type": "code",
   "execution_count": 2,
   "id": "17725bf3-1994-4185-b0f3-e3b15ecac2e3",
   "metadata": {},
   "outputs": [],
   "source": [
    "import inspect"
   ]
  },
  {
   "cell_type": "code",
   "execution_count": 3,
   "id": "1b4634e4-abfd-4a9c-b9b4-1d52959a6a80",
   "metadata": {},
   "outputs": [],
   "source": [
    "members = inspect.getmembers(Recommendability.recommend_by_tags)"
   ]
  },
  {
   "cell_type": "code",
   "execution_count": 4,
   "id": "a444b2df-643b-43df-a6ee-30297c426bce",
   "metadata": {},
   "outputs": [],
   "source": [
    "signature = inspect.signature(Recommendability.recommend_by_tags)"
   ]
  },
  {
   "cell_type": "code",
   "execution_count": 5,
   "id": "1e107cdb-9e3f-4a19-90b6-9a9ac4c82d8d",
   "metadata": {},
   "outputs": [],
   "source": [
    "bind = signature.bind(\"\", [1,2], \"x\")"
   ]
  },
  {
   "cell_type": "code",
   "execution_count": 6,
   "id": "a3dee8aa-c1a7-4640-99b6-fe65ae0aa3b0",
   "metadata": {},
   "outputs": [
    {
     "name": "stdout",
     "output_type": "stream",
     "text": [
      "self\n",
      "tags\n",
      "resembled_level\n"
     ]
    }
   ],
   "source": [
    "dir(bind)\n",
    "bind.arguments\n",
    "for i in signature.parameters:\n",
    "    print(i)"
   ]
  },
  {
   "cell_type": "code",
   "execution_count": 8,
   "id": "9d9b2a27-0ae7-4973-ad64-c474a373219f",
   "metadata": {},
   "outputs": [],
   "source": [
    "from typing import Callable\n",
    "from functools import reduce\n",
    "# print(type(members[-3][1]))\n",
    "for name, member in members:\n",
    "    if hasattr(member, \"__qualname__\") \\\n",
    "    and member.__qualname__.startswith(Recommendability.__name__) \\\n",
    "    and inspect.isfunction(member):\n",
    "        \n",
    "        if name == \"recommend_by_tags\":\n",
    "            signature = inspect.signature(member)\n",
    "\n",
    "            print(member.__qualname__, member)\n",
    "            print(signature.bind(1, 2, 3))\n",
    "            filtered_keys = filter(lambda item: item != \"self\", signature.parameters.keys())\n",
    "            x = reduce(lambda result, key: result + f\"{key!r}: {key!r}\\n\", filtered_keys, \"\")\n",
    "            print(x)\n",
    "\n",
    "            i = exec(f\"\"\"def {name}({', '.join(signature.parameters.keys())}):\n",
    "        print('hello tester.')\"\"\")\n",
    "            print(exec(f\"{name}(1, 2,3 )\"))\n",
    "        \n",
    "        # print(member, member[1], member[1].__qualname__)"
   ]
  },
  {
   "cell_type": "code",
   "execution_count": 65,
   "id": "0665569f-d8f0-456e-af17-dd579ff7ada7",
   "metadata": {},
   "outputs": [
    {
     "data": {
      "text/plain": [
       "mappingproxy({'__module__': '__main__',\n",
       "              'prefer_tags_num': <function __main__.Recommendability.prefer_tags_num(self) -> Optional[int]>,\n",
       "              'recommend_by_tags': <function __main__.Recommendability.recommend_by_tags(self, tags: List, resembled_level: str) -> Generator[str, NoneType, NoneType]>,\n",
       "              '__doc__': None})"
      ]
     },
     "execution_count": 65,
     "metadata": {},
     "output_type": "execute_result"
    }
   ],
   "source": [
    "Recommendability.__dict__"
   ]
  },
  {
   "cell_type": "code",
   "execution_count": 35,
   "id": "d6927e59-9559-47e8-8e9c-6ab7a8c81e43",
   "metadata": {},
   "outputs": [
    {
     "name": "stdout",
     "output_type": "stream",
     "text": [
      "prefer_tags_num\n",
      "<function Recommendability.prefer_tags_num at 0x112b9f310>\n"
     ]
    }
   ],
   "source": [
    "for item in members[-3]:\n",
    "    print(item)"
   ]
  },
  {
   "cell_type": "code",
   "execution_count": 73,
   "id": "00214aed-b00c-4313-91b9-841968ad8577",
   "metadata": {},
   "outputs": [],
   "source": [
    "signature = inspect.signature(members[-2][1])"
   ]
  },
  {
   "cell_type": "code",
   "execution_count": 74,
   "id": "fa4b5daa-1f5e-4aae-9c35-83e0b46d5e93",
   "metadata": {},
   "outputs": [
    {
     "data": {
      "text/plain": [
       "mappingproxy({'connector': <Parameter \"connector: 'Connector'\">})"
      ]
     },
     "execution_count": 74,
     "metadata": {},
     "output_type": "execute_result"
    }
   ],
   "source": [
    "signature.parameters"
   ]
  },
  {
   "cell_type": "code",
   "execution_count": null,
   "id": "f674ac29-453e-4d11-b03f-3057781068bf",
   "metadata": {},
   "outputs": [],
   "source": []
  },
  {
   "cell_type": "code",
   "execution_count": 49,
   "id": "7d0ad690-e9e9-4caf-a51c-22807af66d8c",
   "metadata": {},
   "outputs": [
    {
     "data": {
      "text/plain": [
       "['__annotations__',\n",
       " '__call__',\n",
       " '__class__',\n",
       " '__closure__',\n",
       " '__code__',\n",
       " '__defaults__',\n",
       " '__delattr__',\n",
       " '__dict__',\n",
       " '__dir__',\n",
       " '__doc__',\n",
       " '__eq__',\n",
       " '__format__',\n",
       " '__ge__',\n",
       " '__get__',\n",
       " '__getattribute__',\n",
       " '__globals__',\n",
       " '__gt__',\n",
       " '__hash__',\n",
       " '__init__',\n",
       " '__init_subclass__',\n",
       " '__kwdefaults__',\n",
       " '__le__',\n",
       " '__lt__',\n",
       " '__module__',\n",
       " '__name__',\n",
       " '__ne__',\n",
       " '__new__',\n",
       " '__qualname__',\n",
       " '__reduce__',\n",
       " '__reduce_ex__',\n",
       " '__repr__',\n",
       " '__setattr__',\n",
       " '__sizeof__',\n",
       " '__str__',\n",
       " '__subclasshook__']"
      ]
     },
     "execution_count": 49,
     "metadata": {},
     "output_type": "execute_result"
    }
   ],
   "source": [
    "dir(members[-3][1])"
   ]
  },
  {
   "cell_type": "code",
   "execution_count": 50,
   "id": "b2610653-b67d-4398-b182-669b176c1c56",
   "metadata": {},
   "outputs": [
    {
     "data": {
      "text/plain": [
       "'Recommendability.prefer_tags_num'"
      ]
     },
     "execution_count": 50,
     "metadata": {},
     "output_type": "execute_result"
    }
   ],
   "source": [
    "members[-3][1].__qualname__"
   ]
  }
 ],
 "metadata": {
  "kernelspec": {
   "display_name": "Python 3 (ipykernel)",
   "language": "python",
   "name": "python3"
  },
  "language_info": {
   "codemirror_mode": {
    "name": "ipython",
    "version": 3
   },
   "file_extension": ".py",
   "mimetype": "text/x-python",
   "name": "python",
   "nbconvert_exporter": "python",
   "pygments_lexer": "ipython3",
   "version": "3.9.10"
  }
 },
 "nbformat": 4,
 "nbformat_minor": 5
}
